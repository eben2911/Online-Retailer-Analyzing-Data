{
 "cells": [
  {
   "cell_type": "markdown",
   "metadata": {},
   "source": [
    "# Import software libraries"
   ]
  },
  {
   "cell_type": "code",
   "execution_count": 1,
   "metadata": {},
   "outputs": [
    {
     "name": "stdout",
     "output_type": "stream",
     "text": [
      "Libraries used in this project:\n",
      "- NumPy 1.19.2\n",
      "- Python 3.7.6 | packaged by conda-forge | (default, Mar 23 2020, 23:03:20) \n",
      "[GCC 7.3.0]\n",
      "- pandas 1.1.3\n",
      "- Matplotlib 3.3.2\n",
      "- Seaborn 0.11.0\n"
     ]
    }
   ],
   "source": [
    "# Import required libraries.\n",
    "import sys                          # Read system parameters.\n",
    "import numpy as np                  # Work with multi-dimensional arrays.\n",
    "import pandas as pd                 # Manipulate and analyze data.\n",
    "import matplotlib                   # Create and format charts.\n",
    "import matplotlib.pyplot as plt  \n",
    "import seaborn as sns               # Make charting easier.\n",
    "\n",
    "# Summarize software libraries used.\n",
    "print('Libraries used in this project:')\n",
    "print('- NumPy {}'.format(np.__version__))\n",
    "print('- Python {}'.format(sys.version))\n",
    "print('- pandas {}'.format(pd.__version__))\n",
    "print('- Matplotlib {}'.format(matplotlib.__version__))\n",
    "print('- Seaborn {}'.format(sns.__version__))"
   ]
  },
  {
   "cell_type": "markdown",
   "metadata": {},
   "source": [
    "# Read and examine the data"
   ]
  },
  {
   "cell_type": "code",
   "execution_count": 2,
   "metadata": {},
   "outputs": [
    {
     "data": {
      "text/html": [
       "<div>\n",
       "<style scoped>\n",
       "    .dataframe tbody tr th:only-of-type {\n",
       "        vertical-align: middle;\n",
       "    }\n",
       "\n",
       "    .dataframe tbody tr th {\n",
       "        vertical-align: top;\n",
       "    }\n",
       "\n",
       "    .dataframe thead th {\n",
       "        text-align: right;\n",
       "    }\n",
       "</style>\n",
       "<table border=\"1\" class=\"dataframe\">\n",
       "  <thead>\n",
       "    <tr style=\"text-align: right;\">\n",
       "      <th></th>\n",
       "      <th>Invoice</th>\n",
       "      <th>StockCode</th>\n",
       "      <th>Quantity</th>\n",
       "      <th>InvoiceDate</th>\n",
       "      <th>Price</th>\n",
       "      <th>CustomerID</th>\n",
       "      <th>Country</th>\n",
       "      <th>TotalAmount</th>\n",
       "      <th>Description</th>\n",
       "    </tr>\n",
       "  </thead>\n",
       "  <tbody>\n",
       "    <tr>\n",
       "      <th>0</th>\n",
       "      <td>536365</td>\n",
       "      <td>85123A</td>\n",
       "      <td>6</td>\n",
       "      <td>2010-12-01 08:26:00</td>\n",
       "      <td>2.55</td>\n",
       "      <td>u1785</td>\n",
       "      <td>United Kingdom</td>\n",
       "      <td>15.30</td>\n",
       "      <td>CREAM HANGING HEART T-LIGHT HOLDER</td>\n",
       "    </tr>\n",
       "    <tr>\n",
       "      <th>1</th>\n",
       "      <td>536367</td>\n",
       "      <td>84879</td>\n",
       "      <td>32</td>\n",
       "      <td>2010-12-01 08:34:00</td>\n",
       "      <td>1.69</td>\n",
       "      <td>u13047</td>\n",
       "      <td>United Kingdom</td>\n",
       "      <td>54.08</td>\n",
       "      <td>ASSORTED COLOUR BIRD ORNAMENT</td>\n",
       "    </tr>\n",
       "    <tr>\n",
       "      <th>2</th>\n",
       "      <td>536373</td>\n",
       "      <td>85123A</td>\n",
       "      <td>6</td>\n",
       "      <td>2010-12-01 09:02:00</td>\n",
       "      <td>2.55</td>\n",
       "      <td>u1785</td>\n",
       "      <td>United Kingdom</td>\n",
       "      <td>15.30</td>\n",
       "      <td>CREAM HANGING HEART T-LIGHT HOLDER</td>\n",
       "    </tr>\n",
       "    <tr>\n",
       "      <th>3</th>\n",
       "      <td>536375</td>\n",
       "      <td>85123A</td>\n",
       "      <td>6</td>\n",
       "      <td>2010-12-01 09:32:00</td>\n",
       "      <td>2.55</td>\n",
       "      <td>u1785</td>\n",
       "      <td>United Kingdom</td>\n",
       "      <td>15.30</td>\n",
       "      <td>CREAM HANGING HEART T-LIGHT HOLDER</td>\n",
       "    </tr>\n",
       "    <tr>\n",
       "      <th>4</th>\n",
       "      <td>536378</td>\n",
       "      <td>20725</td>\n",
       "      <td>10</td>\n",
       "      <td>2010-12-01 09:37:00</td>\n",
       "      <td>1.65</td>\n",
       "      <td>u14688</td>\n",
       "      <td>United Kingdom</td>\n",
       "      <td>16.50</td>\n",
       "      <td>LUNCH BAG RED RETROSPOT</td>\n",
       "    </tr>\n",
       "  </tbody>\n",
       "</table>\n",
       "</div>"
      ],
      "text/plain": [
       "  Invoice StockCode  Quantity         InvoiceDate  Price CustomerID  \\\n",
       "0  536365    85123A         6 2010-12-01 08:26:00   2.55      u1785   \n",
       "1  536367     84879        32 2010-12-01 08:34:00   1.69     u13047   \n",
       "2  536373    85123A         6 2010-12-01 09:02:00   2.55      u1785   \n",
       "3  536375    85123A         6 2010-12-01 09:32:00   2.55      u1785   \n",
       "4  536378     20725        10 2010-12-01 09:37:00   1.65     u14688   \n",
       "\n",
       "          Country  TotalAmount                         Description  \n",
       "0  United Kingdom        15.30  CREAM HANGING HEART T-LIGHT HOLDER  \n",
       "1  United Kingdom        54.08       ASSORTED COLOUR BIRD ORNAMENT  \n",
       "2  United Kingdom        15.30  CREAM HANGING HEART T-LIGHT HOLDER  \n",
       "3  United Kingdom        15.30  CREAM HANGING HEART T-LIGHT HOLDER  \n",
       "4  United Kingdom        16.50             LUNCH BAG RED RETROSPOT  "
      ]
     },
     "execution_count": 2,
     "metadata": {},
     "output_type": "execute_result"
    }
   ],
   "source": [
    "# Read the data that was put through the ETL process in Course 2 of the CDSP Specialization. \n",
    "\n",
    "df = pd.read_pickle('data/online_history_cleaned.pickle')\n",
    "\n",
    "\n",
    "# Preview the first five rows of the data.\n",
    "df.head()\n"
   ]
  },
  {
   "cell_type": "code",
   "execution_count": 3,
   "metadata": {},
   "outputs": [
    {
     "data": {
      "text/plain": [
       "(15206, 9)"
      ]
     },
     "execution_count": 3,
     "metadata": {},
     "output_type": "execute_result"
    }
   ],
   "source": [
    "# Get the shape of the data.\n",
    "df.shape\n"
   ]
  },
  {
   "cell_type": "code",
   "execution_count": 4,
   "metadata": {},
   "outputs": [
    {
     "data": {
      "text/plain": [
       "Invoice        datetime64[ns]\n",
       "StockCode              object\n",
       "Quantity                int64\n",
       "InvoiceDate    datetime64[ns]\n",
       "Price                 float64\n",
       "CustomerID             object\n",
       "Country                object\n",
       "TotalAmount           float64\n",
       "Description            object\n",
       "dtype: object"
      ]
     },
     "execution_count": 4,
     "metadata": {},
     "output_type": "execute_result"
    }
   ],
   "source": [
    "# Get the data types for every column in the DataFrame.\n",
    "# df['Invoice'] = pd.to_datetime(df['Invoice'])\n",
    "df['Invoice'] = pd.to_datetime(df['Invoice'], errors='coerce')\n",
    "df.dtypes"
   ]
  },
  {
   "cell_type": "markdown",
   "metadata": {},
   "source": [
    "# Generate summary statistics for all of the data"
   ]
  },
  {
   "cell_type": "code",
   "execution_count": 5,
   "metadata": {},
   "outputs": [
    {
     "data": {
      "text/html": [
       "<div>\n",
       "<style scoped>\n",
       "    .dataframe tbody tr th:only-of-type {\n",
       "        vertical-align: middle;\n",
       "    }\n",
       "\n",
       "    .dataframe tbody tr th {\n",
       "        vertical-align: top;\n",
       "    }\n",
       "\n",
       "    .dataframe thead th {\n",
       "        text-align: right;\n",
       "    }\n",
       "</style>\n",
       "<table border=\"1\" class=\"dataframe\">\n",
       "  <thead>\n",
       "    <tr style=\"text-align: right;\">\n",
       "      <th></th>\n",
       "      <th>Invoice</th>\n",
       "      <th>StockCode</th>\n",
       "      <th>Quantity</th>\n",
       "      <th>InvoiceDate</th>\n",
       "      <th>Price</th>\n",
       "      <th>CustomerID</th>\n",
       "      <th>Country</th>\n",
       "      <th>TotalAmount</th>\n",
       "      <th>Description</th>\n",
       "    </tr>\n",
       "  </thead>\n",
       "  <tbody>\n",
       "    <tr>\n",
       "      <th>count</th>\n",
       "      <td>697</td>\n",
       "      <td>15206</td>\n",
       "      <td>15206.000000</td>\n",
       "      <td>15206</td>\n",
       "      <td>15194.000000</td>\n",
       "      <td>12435</td>\n",
       "      <td>15206</td>\n",
       "      <td>15194.000000</td>\n",
       "      <td>15206</td>\n",
       "    </tr>\n",
       "    <tr>\n",
       "      <th>unique</th>\n",
       "      <td>367</td>\n",
       "      <td>10</td>\n",
       "      <td>NaN</td>\n",
       "      <td>8022</td>\n",
       "      <td>NaN</td>\n",
       "      <td>2473</td>\n",
       "      <td>1</td>\n",
       "      <td>NaN</td>\n",
       "      <td>10</td>\n",
       "    </tr>\n",
       "    <tr>\n",
       "      <th>top</th>\n",
       "      <td>2058-12-17 00:00:00</td>\n",
       "      <td>85123A</td>\n",
       "      <td>NaN</td>\n",
       "      <td>2011-05-10 15:07:00</td>\n",
       "      <td>NaN</td>\n",
       "      <td>u17841</td>\n",
       "      <td>United Kingdom</td>\n",
       "      <td>NaN</td>\n",
       "      <td>CREAM HANGING HEART T-LIGHT HOLDER</td>\n",
       "    </tr>\n",
       "    <tr>\n",
       "      <th>freq</th>\n",
       "      <td>9</td>\n",
       "      <td>2163</td>\n",
       "      <td>NaN</td>\n",
       "      <td>10</td>\n",
       "      <td>NaN</td>\n",
       "      <td>171</td>\n",
       "      <td>15206</td>\n",
       "      <td>NaN</td>\n",
       "      <td>2163</td>\n",
       "    </tr>\n",
       "    <tr>\n",
       "      <th>first</th>\n",
       "      <td>2054-01-20 00:00:00</td>\n",
       "      <td>NaN</td>\n",
       "      <td>NaN</td>\n",
       "      <td>2010-12-01 08:26:00</td>\n",
       "      <td>NaN</td>\n",
       "      <td>NaN</td>\n",
       "      <td>NaN</td>\n",
       "      <td>NaN</td>\n",
       "      <td>NaN</td>\n",
       "    </tr>\n",
       "    <tr>\n",
       "      <th>last</th>\n",
       "      <td>2058-12-25 00:00:00</td>\n",
       "      <td>NaN</td>\n",
       "      <td>NaN</td>\n",
       "      <td>2011-12-09 12:31:00</td>\n",
       "      <td>NaN</td>\n",
       "      <td>NaN</td>\n",
       "      <td>NaN</td>\n",
       "      <td>NaN</td>\n",
       "      <td>NaN</td>\n",
       "    </tr>\n",
       "    <tr>\n",
       "      <th>mean</th>\n",
       "      <td>NaN</td>\n",
       "      <td>NaN</td>\n",
       "      <td>16.775483</td>\n",
       "      <td>NaN</td>\n",
       "      <td>4.164267</td>\n",
       "      <td>NaN</td>\n",
       "      <td>NaN</td>\n",
       "      <td>40.705153</td>\n",
       "      <td>NaN</td>\n",
       "    </tr>\n",
       "    <tr>\n",
       "      <th>std</th>\n",
       "      <td>NaN</td>\n",
       "      <td>NaN</td>\n",
       "      <td>79.496270</td>\n",
       "      <td>NaN</td>\n",
       "      <td>4.377605</td>\n",
       "      <td>NaN</td>\n",
       "      <td>NaN</td>\n",
       "      <td>132.142503</td>\n",
       "      <td>NaN</td>\n",
       "    </tr>\n",
       "    <tr>\n",
       "      <th>min</th>\n",
       "      <td>NaN</td>\n",
       "      <td>NaN</td>\n",
       "      <td>1.000000</td>\n",
       "      <td>NaN</td>\n",
       "      <td>0.400000</td>\n",
       "      <td>NaN</td>\n",
       "      <td>NaN</td>\n",
       "      <td>0.550000</td>\n",
       "      <td>NaN</td>\n",
       "    </tr>\n",
       "    <tr>\n",
       "      <th>25%</th>\n",
       "      <td>NaN</td>\n",
       "      <td>NaN</td>\n",
       "      <td>2.000000</td>\n",
       "      <td>NaN</td>\n",
       "      <td>1.650000</td>\n",
       "      <td>NaN</td>\n",
       "      <td>NaN</td>\n",
       "      <td>8.850000</td>\n",
       "      <td>NaN</td>\n",
       "    </tr>\n",
       "    <tr>\n",
       "      <th>50%</th>\n",
       "      <td>NaN</td>\n",
       "      <td>NaN</td>\n",
       "      <td>6.000000</td>\n",
       "      <td>NaN</td>\n",
       "      <td>2.550000</td>\n",
       "      <td>NaN</td>\n",
       "      <td>NaN</td>\n",
       "      <td>16.500000</td>\n",
       "      <td>NaN</td>\n",
       "    </tr>\n",
       "    <tr>\n",
       "      <th>75%</th>\n",
       "      <td>NaN</td>\n",
       "      <td>NaN</td>\n",
       "      <td>12.000000</td>\n",
       "      <td>NaN</td>\n",
       "      <td>4.950000</td>\n",
       "      <td>NaN</td>\n",
       "      <td>NaN</td>\n",
       "      <td>30.360000</td>\n",
       "      <td>NaN</td>\n",
       "    </tr>\n",
       "    <tr>\n",
       "      <th>max</th>\n",
       "      <td>NaN</td>\n",
       "      <td>NaN</td>\n",
       "      <td>4300.000000</td>\n",
       "      <td>NaN</td>\n",
       "      <td>32.040000</td>\n",
       "      <td>NaN</td>\n",
       "      <td>NaN</td>\n",
       "      <td>4921.500000</td>\n",
       "      <td>NaN</td>\n",
       "    </tr>\n",
       "  </tbody>\n",
       "</table>\n",
       "</div>"
      ],
      "text/plain": [
       "                    Invoice StockCode      Quantity          InvoiceDate  \\\n",
       "count                   697     15206  15206.000000                15206   \n",
       "unique                  367        10           NaN                 8022   \n",
       "top     2058-12-17 00:00:00    85123A           NaN  2011-05-10 15:07:00   \n",
       "freq                      9      2163           NaN                   10   \n",
       "first   2054-01-20 00:00:00       NaN           NaN  2010-12-01 08:26:00   \n",
       "last    2058-12-25 00:00:00       NaN           NaN  2011-12-09 12:31:00   \n",
       "mean                    NaN       NaN     16.775483                  NaN   \n",
       "std                     NaN       NaN     79.496270                  NaN   \n",
       "min                     NaN       NaN      1.000000                  NaN   \n",
       "25%                     NaN       NaN      2.000000                  NaN   \n",
       "50%                     NaN       NaN      6.000000                  NaN   \n",
       "75%                     NaN       NaN     12.000000                  NaN   \n",
       "max                     NaN       NaN   4300.000000                  NaN   \n",
       "\n",
       "               Price CustomerID         Country   TotalAmount  \\\n",
       "count   15194.000000      12435           15206  15194.000000   \n",
       "unique           NaN       2473               1           NaN   \n",
       "top              NaN     u17841  United Kingdom           NaN   \n",
       "freq             NaN        171           15206           NaN   \n",
       "first            NaN        NaN             NaN           NaN   \n",
       "last             NaN        NaN             NaN           NaN   \n",
       "mean        4.164267        NaN             NaN     40.705153   \n",
       "std         4.377605        NaN             NaN    132.142503   \n",
       "min         0.400000        NaN             NaN      0.550000   \n",
       "25%         1.650000        NaN             NaN      8.850000   \n",
       "50%         2.550000        NaN             NaN     16.500000   \n",
       "75%         4.950000        NaN             NaN     30.360000   \n",
       "max        32.040000        NaN             NaN   4921.500000   \n",
       "\n",
       "                               Description  \n",
       "count                                15206  \n",
       "unique                                  10  \n",
       "top     CREAM HANGING HEART T-LIGHT HOLDER  \n",
       "freq                                  2163  \n",
       "first                                  NaN  \n",
       "last                                   NaN  \n",
       "mean                                   NaN  \n",
       "std                                    NaN  \n",
       "min                                    NaN  \n",
       "25%                                    NaN  \n",
       "50%                                    NaN  \n",
       "75%                                    NaN  \n",
       "max                                    NaN  "
      ]
     },
     "execution_count": 5,
     "metadata": {},
     "output_type": "execute_result"
    }
   ],
   "source": [
    "# Get a DataFrame of summary statistics that describe the data, including mean, median, standard deviation, etc.\n",
    "# Be sure to include all variables, including categorical ones.\n",
    "summary_stats = df.describe(include='all')\n",
    "summary_stats\n",
    "\n"
   ]
  },
  {
   "cell_type": "code",
   "execution_count": 6,
   "metadata": {},
   "outputs": [
    {
     "data": {
      "text/plain": [
       "{'Unique Customers': 2473,\n",
       " 'Unique Invoices': 367,\n",
       " 'Unique Stock Codes': 10,\n",
       " 'Unique Countries': 1}"
      ]
     },
     "execution_count": 6,
     "metadata": {},
     "output_type": "execute_result"
    }
   ],
   "source": [
    "unique_values = {\n",
    "    'Unique Customers': df['CustomerID'].nunique(),\n",
    "    'Unique Invoices': df['Invoice'].nunique(),\n",
    "    'Unique Stock Codes': df['StockCode'].nunique(),\n",
    "    'Unique Countries': df['Country'].nunique()\n",
    "}\n",
    "unique_values"
   ]
  },
  {
   "cell_type": "markdown",
   "metadata": {},
   "source": [
    "# Plot a bar chart for the average price per item"
   ]
  },
  {
   "cell_type": "code",
   "execution_count": 7,
   "metadata": {},
   "outputs": [
    {
     "data": {
      "image/png": "[encoded data removed]",
      "text/plain": [
       "<Figure size 720x432 with 1 Axes>"
      ]
     },
     "metadata": {
      "needs_background": "light"
     },
     "output_type": "display_data"
    }
   ],
   "source": [
    "# Plot the average price per item using a bar chart.\n",
    "# Make sure the average price is on one axis, and each distinct item description is on the other axis.\n",
    "\n",
    "avg_price_per_item = df.groupby('StockCode')['Price'].mean()\n",
    "\n",
    "\n",
    "plt.figure(figsize=(10, 6))\n",
    "avg_price_per_item.plot(kind='bar')\n",
    "plt.title('Average Price Per Item')\n",
    "plt.xlabel('Stock Code')\n",
    "plt.ylabel('Average Price')\n",
    "plt.xticks(rotation=90)  # Rotate the x-axis labels vertically\n",
    "plt.tight_layout()\n",
    "plt.show()\n",
    "\n",
    "\n",
    "\n",
    "\n"
   ]
  },
  {
   "cell_type": "markdown",
   "metadata": {},
   "source": [
    "# Explore the distribution of the numeric variable `Price`"
   ]
  },
  {
   "cell_type": "code",
   "execution_count": 8,
   "metadata": {},
   "outputs": [
    {
     "data": {
      "text/html": [
       "<div>\n",
       "<style scoped>\n",
       "    .dataframe tbody tr th:only-of-type {\n",
       "        vertical-align: middle;\n",
       "    }\n",
       "\n",
       "    .dataframe tbody tr th {\n",
       "        vertical-align: top;\n",
       "    }\n",
       "\n",
       "    .dataframe thead th {\n",
       "        text-align: right;\n",
       "    }\n",
       "</style>\n",
       "<table border=\"1\" class=\"dataframe\">\n",
       "  <thead>\n",
       "    <tr style=\"text-align: right;\">\n",
       "      <th></th>\n",
       "      <th>Quantity</th>\n",
       "      <th>Price</th>\n",
       "      <th>TotalAmount</th>\n",
       "    </tr>\n",
       "  </thead>\n",
       "  <tbody>\n",
       "    <tr>\n",
       "      <th>count</th>\n",
       "      <td>15206.000000</td>\n",
       "      <td>15194.000000</td>\n",
       "      <td>15194.000000</td>\n",
       "    </tr>\n",
       "    <tr>\n",
       "      <th>mean</th>\n",
       "      <td>16.775483</td>\n",
       "      <td>4.164267</td>\n",
       "      <td>40.705153</td>\n",
       "    </tr>\n",
       "    <tr>\n",
       "      <th>std</th>\n",
       "      <td>79.496270</td>\n",
       "      <td>4.377605</td>\n",
       "      <td>132.142503</td>\n",
       "    </tr>\n",
       "    <tr>\n",
       "      <th>min</th>\n",
       "      <td>1.000000</td>\n",
       "      <td>0.400000</td>\n",
       "      <td>0.550000</td>\n",
       "    </tr>\n",
       "    <tr>\n",
       "      <th>25%</th>\n",
       "      <td>2.000000</td>\n",
       "      <td>1.650000</td>\n",
       "      <td>8.850000</td>\n",
       "    </tr>\n",
       "    <tr>\n",
       "      <th>50%</th>\n",
       "      <td>6.000000</td>\n",
       "      <td>2.550000</td>\n",
       "      <td>16.500000</td>\n",
       "    </tr>\n",
       "    <tr>\n",
       "      <th>75%</th>\n",
       "      <td>12.000000</td>\n",
       "      <td>4.950000</td>\n",
       "      <td>30.360000</td>\n",
       "    </tr>\n",
       "    <tr>\n",
       "      <th>max</th>\n",
       "      <td>4300.000000</td>\n",
       "      <td>32.040000</td>\n",
       "      <td>4921.500000</td>\n",
       "    </tr>\n",
       "  </tbody>\n",
       "</table>\n",
       "</div>"
      ],
      "text/plain": [
       "           Quantity         Price   TotalAmount\n",
       "count  15206.000000  15194.000000  15194.000000\n",
       "mean      16.775483      4.164267     40.705153\n",
       "std       79.496270      4.377605    132.142503\n",
       "min        1.000000      0.400000      0.550000\n",
       "25%        2.000000      1.650000      8.850000\n",
       "50%        6.000000      2.550000     16.500000\n",
       "75%       12.000000      4.950000     30.360000\n",
       "max     4300.000000     32.040000   4921.500000"
      ]
     },
     "execution_count": 8,
     "metadata": {},
     "output_type": "execute_result"
    }
   ],
   "source": [
    "# Get a DataFrame of summary statistics for numeric variables only.\n",
    "numeric_summary_stats = df.describe()\n",
    "numeric_summary_stats"
   ]
  },
  {
   "cell_type": "code",
   "execution_count": 9,
   "metadata": {},
   "outputs": [
    {
     "data": {
      "image/png": "[encoded data removed]",
      "text/plain": [
       "<Figure size 576x432 with 1 Axes>"
      ]
     },
     "metadata": {
      "needs_background": "light"
     },
     "output_type": "display_data"
    }
   ],
   "source": [
    "# Generate a violin plot for the \"Price\" variable.\n",
    "# Decorate and style the plot however you think is best.\n",
    "\n",
    "plt.figure(figsize=(8, 6))\n",
    "sns.violinplot(y=df['Price'])\n",
    "plt.title('Violin Plot of Price')\n",
    "plt.ylabel('Price')\n",
    "plt.show()"
   ]
  },
  {
   "cell_type": "markdown",
   "metadata": {},
   "source": [
    "# Visualize correlations between numeric variables"
   ]
  },
  {
   "cell_type": "code",
   "execution_count": 10,
   "metadata": {},
   "outputs": [
    {
     "data": {
      "text/html": [
       "<div>\n",
       "<style scoped>\n",
       "    .dataframe tbody tr th:only-of-type {\n",
       "        vertical-align: middle;\n",
       "    }\n",
       "\n",
       "    .dataframe tbody tr th {\n",
       "        vertical-align: top;\n",
       "    }\n",
       "\n",
       "    .dataframe thead th {\n",
       "        text-align: right;\n",
       "    }\n",
       "</style>\n",
       "<table border=\"1\" class=\"dataframe\">\n",
       "  <thead>\n",
       "    <tr style=\"text-align: right;\">\n",
       "      <th></th>\n",
       "      <th>Quantity</th>\n",
       "      <th>Price</th>\n",
       "      <th>TotalAmount</th>\n",
       "    </tr>\n",
       "  </thead>\n",
       "  <tbody>\n",
       "    <tr>\n",
       "      <th>Quantity</th>\n",
       "      <td>1.000000</td>\n",
       "      <td>-0.088356</td>\n",
       "      <td>0.745641</td>\n",
       "    </tr>\n",
       "    <tr>\n",
       "      <th>Price</th>\n",
       "      <td>-0.088356</td>\n",
       "      <td>1.000000</td>\n",
       "      <td>0.109054</td>\n",
       "    </tr>\n",
       "    <tr>\n",
       "      <th>TotalAmount</th>\n",
       "      <td>0.745641</td>\n",
       "      <td>0.109054</td>\n",
       "      <td>1.000000</td>\n",
       "    </tr>\n",
       "  </tbody>\n",
       "</table>\n",
       "</div>"
      ],
      "text/plain": [
       "             Quantity     Price  TotalAmount\n",
       "Quantity     1.000000 -0.088356     0.745641\n",
       "Price       -0.088356  1.000000     0.109054\n",
       "TotalAmount  0.745641  0.109054     1.000000"
      ]
     },
     "execution_count": 10,
     "metadata": {},
     "output_type": "execute_result"
    }
   ],
   "source": [
    "# Generate a correlation matrix between all numeric variables.\n",
    "correlation_matrix = df.corr()\n",
    "correlation_matrix\n",
    "\n",
    "\n"
   ]
  },
  {
   "cell_type": "code",
   "execution_count": 11,
   "metadata": {},
   "outputs": [
    {
     "data": {
      "image/png": "[encoded data removed]",
      "text/plain": [
       "<Figure size 576x432 with 2 Axes>"
      ]
     },
     "metadata": {
      "needs_background": "light"
     },
     "output_type": "display_data"
    }
   ],
   "source": [
    "# Visualize the correlations with a heatmap.\n",
    "plt.figure(figsize=(8, 6))\n",
    "sns.heatmap(correlation_matrix, annot=True, cmap='coolwarm', linewidths=0.5)\n",
    "plt.title('Correlation Matrix Heatmap')\n",
    "plt.show()\n",
    "\n",
    "\n"
   ]
  },
  {
   "cell_type": "markdown",
   "metadata": {},
   "source": [
    "# Transform skewed variables"
   ]
  },
  {
   "cell_type": "code",
   "execution_count": 12,
   "metadata": {},
   "outputs": [
    {
     "data": {
      "image/png": "[encoded data removed]",
      "text/plain": [
       "<Figure size 720x432 with 4 Axes>"
      ]
     },
     "metadata": {
      "needs_background": "light"
     },
     "output_type": "display_data"
    }
   ],
   "source": [
    "# Plot histograms for the original distributions of all numeric variables.\n",
    "df[['Quantity', 'Price', 'TotalAmount']].hist(figsize=(10, 6), bins=20)\n",
    "plt.tight_layout()\n",
    "plt.show()\n"
   ]
  },
  {
   "cell_type": "code",
   "execution_count": 13,
   "metadata": {},
   "outputs": [
    {
     "data": {
      "image/png": "[encoded data removed]",
      "text/plain": [
       "<Figure size 432x288 with 1 Axes>"
      ]
     },
     "metadata": {
      "needs_background": "light"
     },
     "output_type": "display_data"
    }
   ],
   "source": [
    "# Plot the log transformation of \"Price\".\n",
    "\n",
    "df['LogPrice'] = df['Price'].apply(lambda x: np.log(x + 1))\n",
    "df['LogPrice'].hist(figsize=(6, 4), bins=20)\n",
    "plt.title('Log-transformed Price Distribution')\n",
    "plt.xlabel('Log Price')\n",
    "plt.ylabel('Frequency')\n",
    "plt.show()\n"
   ]
  },
  {
   "cell_type": "code",
   "execution_count": 14,
   "metadata": {},
   "outputs": [
    {
     "data": {
      "image/png": "[encoded data removed]",
      "text/plain": [
       "<Figure size 720x432 with 1 Axes>"
      ]
     },
     "metadata": {
      "needs_background": "light"
     },
     "output_type": "display_data"
    }
   ],
   "source": [
    "# Plot the log transformation of \"Quantity\".\n",
    "df['LogQuantity'] = df['Quantity'].apply(lambda x: np.log(x + 1))\n",
    "df[['LogQuantity']].hist(figsize=(10, 6), bins=20)\n",
    "plt.show()\n",
    "\n"
   ]
  },
  {
   "cell_type": "code",
   "execution_count": 15,
   "metadata": {},
   "outputs": [
    {
     "data": {
      "image/png": "[encoded data removed]",
      "text/plain": [
       "<Figure size 720x432 with 1 Axes>"
      ]
     },
     "metadata": {
      "needs_background": "light"
     },
     "output_type": "display_data"
    }
   ],
   "source": [
    "# Plot the log transformation of \"TotalAmount\".\n",
    "df['LogTotalAmount'] = df['TotalAmount'].apply(lambda x: np.log(x + 1))\n",
    "df[['LogTotalAmount']].hist(figsize=(10, 6), bins=20)\n",
    "plt.show()\n",
    "\n"
   ]
  },
  {
   "cell_type": "markdown",
   "metadata": {},
   "source": [
    "# Analyze time series data"
   ]
  },
  {
   "cell_type": "code",
   "execution_count": 16,
   "metadata": {},
   "outputs": [
    {
     "data": {
      "text/plain": [
       "MonthYear\n",
       "2054-01     2\n",
       "2054-03     1\n",
       "2054-04    11\n",
       "2054-05    16\n",
       "2054-06     1\n",
       "2054-07     2\n",
       "2054-08    10\n",
       "2054-09     3\n",
       "2054-10     8\n",
       "2054-11     5\n",
       "2054-12     9\n",
       "2055-01     9\n",
       "2055-02    10\n",
       "2055-03    16\n",
       "2055-04     1\n",
       "2055-05    11\n",
       "2055-06     9\n",
       "2055-07     4\n",
       "2055-08     8\n",
       "2055-09     6\n",
       "2055-10    14\n",
       "2055-11     1\n",
       "2056-01     8\n",
       "2056-02     6\n",
       "2056-04     5\n",
       "2056-05     3\n",
       "2056-06     2\n",
       "2056-07    12\n",
       "2056-08     2\n",
       "2056-09     9\n",
       "2056-10    12\n",
       "2056-11     4\n",
       "2056-12    14\n",
       "2057-01    13\n",
       "2057-02    10\n",
       "2057-04     7\n",
       "2057-05     4\n",
       "2057-07     2\n",
       "2057-08     3\n",
       "2057-10     4\n",
       "2057-11     6\n",
       "2057-12    14\n",
       "2058-01     8\n",
       "2058-02     2\n",
       "2058-03    10\n",
       "2058-04     1\n",
       "2058-05    11\n",
       "2058-06     4\n",
       "2058-07     6\n",
       "2058-08     3\n",
       "2058-09     4\n",
       "2058-10    11\n",
       "2058-11     4\n",
       "2058-12     6\n",
       "Freq: M, Name: Invoice, dtype: int64"
      ]
     },
     "execution_count": 16,
     "metadata": {},
     "output_type": "execute_result"
    }
   ],
   "source": [
    "# Obtain the number of invoices by month.\n",
    "\n",
    "df['Invoice'] = pd.to_datetime(df['Invoice'])\n",
    "\n",
    "# Extract year and month\n",
    "df['MonthYear'] = df['Invoice'].dt.to_period('M')\n",
    "\n",
    "# Print the number of invoices by month.\n",
    "invoices_per_month = df.groupby('MonthYear')['Invoice'].nunique()\n",
    "invoices_per_month\n"
   ]
  },
  {
   "cell_type": "code",
   "execution_count": 17,
   "metadata": {},
   "outputs": [
    {
     "data": {
      "image/png": "[encoded data removed]",
      "text/plain": [
       "<Figure size 720x432 with 1 Axes>"
      ]
     },
     "metadata": {
      "needs_background": "light"
     },
     "output_type": "display_data"
    }
   ],
   "source": [
    "# Use a bar chart to plot the number of invoices by month.\n",
    "plt.figure(figsize=(10, 6))\n",
    "invoices_per_month.plot(kind='bar')\n",
    "plt.title('Number of Invoices Per Month')\n",
    "plt.xlabel('Month-Year')\n",
    "plt.ylabel('Number of Invoices')\n",
    "plt.xticks(rotation=45)\n",
    "plt.tight_layout()\n",
    "plt.show()\n",
    "\n",
    "\n"
   ]
  },
  {
   "cell_type": "markdown",
   "metadata": {},
   "source": [
    "# Identify and handle missing data"
   ]
  },
  {
   "cell_type": "code",
   "execution_count": 18,
   "metadata": {},
   "outputs": [
    {
     "data": {
      "text/plain": [
       "Invoice           14509\n",
       "StockCode             0\n",
       "Quantity              0\n",
       "InvoiceDate           0\n",
       "Price                12\n",
       "CustomerID         2771\n",
       "Country               0\n",
       "TotalAmount          12\n",
       "Description           0\n",
       "LogPrice             12\n",
       "LogQuantity           0\n",
       "LogTotalAmount       12\n",
       "MonthYear         14509\n",
       "dtype: int64"
      ]
     },
     "execution_count": 18,
     "metadata": {},
     "output_type": "execute_result"
    }
   ],
   "source": [
    "# Identify any missing data for all variables.\n",
    "\n",
    "missing_values = df.isnull().sum()\n",
    "missing_values"
   ]
  },
  {
   "cell_type": "code",
   "execution_count": 19,
   "metadata": {},
   "outputs": [
    {
     "name": "stdout",
     "output_type": "stream",
     "text": [
      "Shape before: (15206, 13)\n",
      "Shape after: (12435, 13)\n"
     ]
    }
   ],
   "source": [
    "# Print the current shape of the data.\n",
    "print('Shape before:', df.shape)\n",
    "\n",
    "\n",
    "# Remove rows of data where \"CustomerID\" is unknown.\n",
    "df = df.dropna(subset=['CustomerID'])\n",
    "\n",
    "\n",
    "# Print the new shape of the data.\n",
    "print('Shape after:', df.shape)\n"
   ]
  },
  {
   "cell_type": "code",
   "execution_count": 20,
   "metadata": {},
   "outputs": [
    {
     "data": {
      "text/plain": [
       "Invoice           11884\n",
       "StockCode             0\n",
       "Quantity              0\n",
       "InvoiceDate           0\n",
       "Price                 0\n",
       "CustomerID            0\n",
       "Country               0\n",
       "TotalAmount           0\n",
       "Description           0\n",
       "LogPrice              1\n",
       "LogQuantity           0\n",
       "LogTotalAmount        1\n",
       "MonthYear         11884\n",
       "dtype: int64"
      ]
     },
     "execution_count": 20,
     "metadata": {},
     "output_type": "execute_result"
    }
   ],
   "source": [
    "# Fill in N/A values for \"Price\" and \"TotalAmount\" with 0.\n",
    "df['Price'].fillna(0, inplace=True)\n",
    "df['TotalAmount'].fillna(0, inplace=True)\n",
    "\n",
    "\n",
    "\n",
    "\n",
    "# Confirm there are no longer any missing values.\n",
    "missing_values_after = df.isnull().sum()\n",
    "missing_values_after\n"
   ]
  },
  {
   "cell_type": "markdown",
   "metadata": {},
   "source": [
    "# One-hot encode the `Description` variable"
   ]
  },
  {
   "cell_type": "code",
   "execution_count": 21,
   "metadata": {},
   "outputs": [
    {
     "data": {
      "text/html": [
       "<div>\n",
       "<style scoped>\n",
       "    .dataframe tbody tr th:only-of-type {\n",
       "        vertical-align: middle;\n",
       "    }\n",
       "\n",
       "    .dataframe tbody tr th {\n",
       "        vertical-align: top;\n",
       "    }\n",
       "\n",
       "    .dataframe thead th {\n",
       "        text-align: right;\n",
       "    }\n",
       "</style>\n",
       "<table border=\"1\" class=\"dataframe\">\n",
       "  <thead>\n",
       "    <tr style=\"text-align: right;\">\n",
       "      <th></th>\n",
       "      <th>Description_ASSORTED COLOUR BIRD ORNAMENT</th>\n",
       "      <th>Description_CREAM HANGING HEART T-LIGHT HOLDER</th>\n",
       "      <th>Description_JUMBO BAG RED RETROSPOT</th>\n",
       "      <th>Description_LUNCH BAG  BLACK SKULL.</th>\n",
       "      <th>Description_LUNCH BAG RED RETROSPOT</th>\n",
       "      <th>Description_PACK OF 72 RETROSPOT CAKE CASES</th>\n",
       "      <th>Description_PARTY BUNTING</th>\n",
       "      <th>Description_POPCORN HOLDER</th>\n",
       "      <th>Description_REGENCY CAKESTAND 3 TIER</th>\n",
       "      <th>Description_SET OF 3 CAKE TINS PANTRY DESIGN</th>\n",
       "    </tr>\n",
       "  </thead>\n",
       "  <tbody>\n",
       "    <tr>\n",
       "      <th>0</th>\n",
       "      <td>0</td>\n",
       "      <td>1</td>\n",
       "      <td>0</td>\n",
       "      <td>0</td>\n",
       "      <td>0</td>\n",
       "      <td>0</td>\n",
       "      <td>0</td>\n",
       "      <td>0</td>\n",
       "      <td>0</td>\n",
       "      <td>0</td>\n",
       "    </tr>\n",
       "    <tr>\n",
       "      <th>1</th>\n",
       "      <td>1</td>\n",
       "      <td>0</td>\n",
       "      <td>0</td>\n",
       "      <td>0</td>\n",
       "      <td>0</td>\n",
       "      <td>0</td>\n",
       "      <td>0</td>\n",
       "      <td>0</td>\n",
       "      <td>0</td>\n",
       "      <td>0</td>\n",
       "    </tr>\n",
       "    <tr>\n",
       "      <th>2</th>\n",
       "      <td>0</td>\n",
       "      <td>1</td>\n",
       "      <td>0</td>\n",
       "      <td>0</td>\n",
       "      <td>0</td>\n",
       "      <td>0</td>\n",
       "      <td>0</td>\n",
       "      <td>0</td>\n",
       "      <td>0</td>\n",
       "      <td>0</td>\n",
       "    </tr>\n",
       "    <tr>\n",
       "      <th>3</th>\n",
       "      <td>0</td>\n",
       "      <td>1</td>\n",
       "      <td>0</td>\n",
       "      <td>0</td>\n",
       "      <td>0</td>\n",
       "      <td>0</td>\n",
       "      <td>0</td>\n",
       "      <td>0</td>\n",
       "      <td>0</td>\n",
       "      <td>0</td>\n",
       "    </tr>\n",
       "    <tr>\n",
       "      <th>4</th>\n",
       "      <td>0</td>\n",
       "      <td>0</td>\n",
       "      <td>0</td>\n",
       "      <td>0</td>\n",
       "      <td>1</td>\n",
       "      <td>0</td>\n",
       "      <td>0</td>\n",
       "      <td>0</td>\n",
       "      <td>0</td>\n",
       "      <td>0</td>\n",
       "    </tr>\n",
       "  </tbody>\n",
       "</table>\n",
       "</div>"
      ],
      "text/plain": [
       "   Description_ASSORTED COLOUR BIRD ORNAMENT  \\\n",
       "0                                          0   \n",
       "1                                          1   \n",
       "2                                          0   \n",
       "3                                          0   \n",
       "4                                          0   \n",
       "\n",
       "   Description_CREAM HANGING HEART T-LIGHT HOLDER  \\\n",
       "0                                               1   \n",
       "1                                               0   \n",
       "2                                               1   \n",
       "3                                               1   \n",
       "4                                               0   \n",
       "\n",
       "   Description_JUMBO BAG RED RETROSPOT  Description_LUNCH BAG  BLACK SKULL.  \\\n",
       "0                                    0                                    0   \n",
       "1                                    0                                    0   \n",
       "2                                    0                                    0   \n",
       "3                                    0                                    0   \n",
       "4                                    0                                    0   \n",
       "\n",
       "   Description_LUNCH BAG RED RETROSPOT  \\\n",
       "0                                    0   \n",
       "1                                    0   \n",
       "2                                    0   \n",
       "3                                    0   \n",
       "4                                    1   \n",
       "\n",
       "   Description_PACK OF 72 RETROSPOT CAKE CASES  Description_PARTY BUNTING  \\\n",
       "0                                            0                          0   \n",
       "1                                            0                          0   \n",
       "2                                            0                          0   \n",
       "3                                            0                          0   \n",
       "4                                            0                          0   \n",
       "\n",
       "   Description_POPCORN HOLDER  Description_REGENCY CAKESTAND 3 TIER  \\\n",
       "0                           0                                     0   \n",
       "1                           0                                     0   \n",
       "2                           0                                     0   \n",
       "3                           0                                     0   \n",
       "4                           0                                     0   \n",
       "\n",
       "   Description_SET OF 3 CAKE TINS PANTRY DESIGN   \n",
       "0                                              0  \n",
       "1                                              0  \n",
       "2                                              0  \n",
       "3                                              0  \n",
       "4                                              0  "
      ]
     },
     "execution_count": 21,
     "metadata": {},
     "output_type": "execute_result"
    }
   ],
   "source": [
    "# One-hot encode the \"Description\" variable with dummy variables for each unique description.\n",
    "# Prefix each dummy variable name with \"Description\".\n",
    "\n",
    "description_dummies = pd.get_dummies(df['Description'], prefix='Description')\n",
    "\n",
    "# Preview the first five rows of the DataFrame.\n",
    "description_dummies.head()\n"
   ]
  },
  {
   "cell_type": "code",
   "execution_count": 22,
   "metadata": {},
   "outputs": [],
   "source": [
    "# Concatenate the new encoded columns with the main DataFrame.\n",
    "\n",
    "df = pd.concat([df, description_dummies], axis=1)\n",
    "\n",
    "# Drop the original \"Description\" variable.\n",
    "df.drop('Description', axis=1, inplace=True)\n",
    "\n"
   ]
  },
  {
   "cell_type": "code",
   "execution_count": 23,
   "metadata": {},
   "outputs": [
    {
     "data": {
      "text/html": [
       "<div>\n",
       "<style scoped>\n",
       "    .dataframe tbody tr th:only-of-type {\n",
       "        vertical-align: middle;\n",
       "    }\n",
       "\n",
       "    .dataframe tbody tr th {\n",
       "        vertical-align: top;\n",
       "    }\n",
       "\n",
       "    .dataframe thead th {\n",
       "        text-align: right;\n",
       "    }\n",
       "</style>\n",
       "<table border=\"1\" class=\"dataframe\">\n",
       "  <thead>\n",
       "    <tr style=\"text-align: right;\">\n",
       "      <th></th>\n",
       "      <th>Invoice</th>\n",
       "      <th>StockCode</th>\n",
       "      <th>Quantity</th>\n",
       "      <th>InvoiceDate</th>\n",
       "      <th>Price</th>\n",
       "      <th>CustomerID</th>\n",
       "      <th>Country</th>\n",
       "      <th>TotalAmount</th>\n",
       "      <th>LogPrice</th>\n",
       "      <th>LogQuantity</th>\n",
       "      <th>...</th>\n",
       "      <th>Description_ASSORTED COLOUR BIRD ORNAMENT</th>\n",
       "      <th>Description_CREAM HANGING HEART T-LIGHT HOLDER</th>\n",
       "      <th>Description_JUMBO BAG RED RETROSPOT</th>\n",
       "      <th>Description_LUNCH BAG  BLACK SKULL.</th>\n",
       "      <th>Description_LUNCH BAG RED RETROSPOT</th>\n",
       "      <th>Description_PACK OF 72 RETROSPOT CAKE CASES</th>\n",
       "      <th>Description_PARTY BUNTING</th>\n",
       "      <th>Description_POPCORN HOLDER</th>\n",
       "      <th>Description_REGENCY CAKESTAND 3 TIER</th>\n",
       "      <th>Description_SET OF 3 CAKE TINS PANTRY DESIGN</th>\n",
       "    </tr>\n",
       "  </thead>\n",
       "  <tbody>\n",
       "    <tr>\n",
       "      <th>0</th>\n",
       "      <td>NaT</td>\n",
       "      <td>85123A</td>\n",
       "      <td>6</td>\n",
       "      <td>2010-12-01 08:26:00</td>\n",
       "      <td>2.55</td>\n",
       "      <td>u1785</td>\n",
       "      <td>United Kingdom</td>\n",
       "      <td>15.30</td>\n",
       "      <td>1.266948</td>\n",
       "      <td>1.945910</td>\n",
       "      <td>...</td>\n",
       "      <td>0</td>\n",
       "      <td>1</td>\n",
       "      <td>0</td>\n",
       "      <td>0</td>\n",
       "      <td>0</td>\n",
       "      <td>0</td>\n",
       "      <td>0</td>\n",
       "      <td>0</td>\n",
       "      <td>0</td>\n",
       "      <td>0</td>\n",
       "    </tr>\n",
       "    <tr>\n",
       "      <th>1</th>\n",
       "      <td>NaT</td>\n",
       "      <td>84879</td>\n",
       "      <td>32</td>\n",
       "      <td>2010-12-01 08:34:00</td>\n",
       "      <td>1.69</td>\n",
       "      <td>u13047</td>\n",
       "      <td>United Kingdom</td>\n",
       "      <td>54.08</td>\n",
       "      <td>0.989541</td>\n",
       "      <td>3.496508</td>\n",
       "      <td>...</td>\n",
       "      <td>1</td>\n",
       "      <td>0</td>\n",
       "      <td>0</td>\n",
       "      <td>0</td>\n",
       "      <td>0</td>\n",
       "      <td>0</td>\n",
       "      <td>0</td>\n",
       "      <td>0</td>\n",
       "      <td>0</td>\n",
       "      <td>0</td>\n",
       "    </tr>\n",
       "    <tr>\n",
       "      <th>2</th>\n",
       "      <td>NaT</td>\n",
       "      <td>85123A</td>\n",
       "      <td>6</td>\n",
       "      <td>2010-12-01 09:02:00</td>\n",
       "      <td>2.55</td>\n",
       "      <td>u1785</td>\n",
       "      <td>United Kingdom</td>\n",
       "      <td>15.30</td>\n",
       "      <td>1.266948</td>\n",
       "      <td>1.945910</td>\n",
       "      <td>...</td>\n",
       "      <td>0</td>\n",
       "      <td>1</td>\n",
       "      <td>0</td>\n",
       "      <td>0</td>\n",
       "      <td>0</td>\n",
       "      <td>0</td>\n",
       "      <td>0</td>\n",
       "      <td>0</td>\n",
       "      <td>0</td>\n",
       "      <td>0</td>\n",
       "    </tr>\n",
       "    <tr>\n",
       "      <th>3</th>\n",
       "      <td>NaT</td>\n",
       "      <td>85123A</td>\n",
       "      <td>6</td>\n",
       "      <td>2010-12-01 09:32:00</td>\n",
       "      <td>2.55</td>\n",
       "      <td>u1785</td>\n",
       "      <td>United Kingdom</td>\n",
       "      <td>15.30</td>\n",
       "      <td>1.266948</td>\n",
       "      <td>1.945910</td>\n",
       "      <td>...</td>\n",
       "      <td>0</td>\n",
       "      <td>1</td>\n",
       "      <td>0</td>\n",
       "      <td>0</td>\n",
       "      <td>0</td>\n",
       "      <td>0</td>\n",
       "      <td>0</td>\n",
       "      <td>0</td>\n",
       "      <td>0</td>\n",
       "      <td>0</td>\n",
       "    </tr>\n",
       "    <tr>\n",
       "      <th>4</th>\n",
       "      <td>NaT</td>\n",
       "      <td>20725</td>\n",
       "      <td>10</td>\n",
       "      <td>2010-12-01 09:37:00</td>\n",
       "      <td>1.65</td>\n",
       "      <td>u14688</td>\n",
       "      <td>United Kingdom</td>\n",
       "      <td>16.50</td>\n",
       "      <td>0.974560</td>\n",
       "      <td>2.397895</td>\n",
       "      <td>...</td>\n",
       "      <td>0</td>\n",
       "      <td>0</td>\n",
       "      <td>0</td>\n",
       "      <td>0</td>\n",
       "      <td>1</td>\n",
       "      <td>0</td>\n",
       "      <td>0</td>\n",
       "      <td>0</td>\n",
       "      <td>0</td>\n",
       "      <td>0</td>\n",
       "    </tr>\n",
       "  </tbody>\n",
       "</table>\n",
       "<p>5 rows × 22 columns</p>\n",
       "</div>"
      ],
      "text/plain": [
       "  Invoice StockCode  Quantity         InvoiceDate  Price CustomerID  \\\n",
       "0     NaT    85123A         6 2010-12-01 08:26:00   2.55      u1785   \n",
       "1     NaT     84879        32 2010-12-01 08:34:00   1.69     u13047   \n",
       "2     NaT    85123A         6 2010-12-01 09:02:00   2.55      u1785   \n",
       "3     NaT    85123A         6 2010-12-01 09:32:00   2.55      u1785   \n",
       "4     NaT     20725        10 2010-12-01 09:37:00   1.65     u14688   \n",
       "\n",
       "          Country  TotalAmount  LogPrice  LogQuantity  ...  \\\n",
       "0  United Kingdom        15.30  1.266948     1.945910  ...   \n",
       "1  United Kingdom        54.08  0.989541     3.496508  ...   \n",
       "2  United Kingdom        15.30  1.266948     1.945910  ...   \n",
       "3  United Kingdom        15.30  1.266948     1.945910  ...   \n",
       "4  United Kingdom        16.50  0.974560     2.397895  ...   \n",
       "\n",
       "   Description_ASSORTED COLOUR BIRD ORNAMENT  \\\n",
       "0                                          0   \n",
       "1                                          1   \n",
       "2                                          0   \n",
       "3                                          0   \n",
       "4                                          0   \n",
       "\n",
       "  Description_CREAM HANGING HEART T-LIGHT HOLDER  \\\n",
       "0                                              1   \n",
       "1                                              0   \n",
       "2                                              1   \n",
       "3                                              1   \n",
       "4                                              0   \n",
       "\n",
       "   Description_JUMBO BAG RED RETROSPOT  Description_LUNCH BAG  BLACK SKULL.  \\\n",
       "0                                    0                                    0   \n",
       "1                                    0                                    0   \n",
       "2                                    0                                    0   \n",
       "3                                    0                                    0   \n",
       "4                                    0                                    0   \n",
       "\n",
       "   Description_LUNCH BAG RED RETROSPOT  \\\n",
       "0                                    0   \n",
       "1                                    0   \n",
       "2                                    0   \n",
       "3                                    0   \n",
       "4                                    1   \n",
       "\n",
       "   Description_PACK OF 72 RETROSPOT CAKE CASES  Description_PARTY BUNTING  \\\n",
       "0                                            0                          0   \n",
       "1                                            0                          0   \n",
       "2                                            0                          0   \n",
       "3                                            0                          0   \n",
       "4                                            0                          0   \n",
       "\n",
       "   Description_POPCORN HOLDER  Description_REGENCY CAKESTAND 3 TIER  \\\n",
       "0                           0                                     0   \n",
       "1                           0                                     0   \n",
       "2                           0                                     0   \n",
       "3                           0                                     0   \n",
       "4                           0                                     0   \n",
       "\n",
       "   Description_SET OF 3 CAKE TINS PANTRY DESIGN   \n",
       "0                                              0  \n",
       "1                                              0  \n",
       "2                                              0  \n",
       "3                                              0  \n",
       "4                                              0  \n",
       "\n",
       "[5 rows x 22 columns]"
      ]
     },
     "execution_count": 23,
     "metadata": {},
     "output_type": "execute_result"
    }
   ],
   "source": [
    "# Preview the first five rows of the data.\n",
    "df.head()\n"
   ]
  },
  {
   "cell_type": "markdown",
   "metadata": {},
   "source": [
    "# Identify and remove columns with low variance"
   ]
  },
  {
   "cell_type": "code",
   "execution_count": 24,
   "metadata": {},
   "outputs": [
    {
     "data": {
      "text/plain": [
       "Quantity                                           77.436253\n",
       "Price                                               3.506381\n",
       "TotalAmount                                       132.092738\n",
       "LogPrice                                            0.600163\n",
       "LogQuantity                                         1.059758\n",
       "LogTotalAmount                                      1.096991\n",
       "Description_ASSORTED COLOUR BIRD ORNAMENT           0.308044\n",
       "Description_CREAM HANGING HEART T-LIGHT HOLDER      0.362575\n",
       "Description_JUMBO BAG RED RETROSPOT                 0.322017\n",
       "Description_LUNCH BAG  BLACK SKULL.                 0.274661\n",
       "Description_LUNCH BAG RED RETROSPOT                 0.288011\n",
       "Description_PACK OF 72 RETROSPOT CAKE CASES         0.254417\n",
       "Description_PARTY BUNTING                           0.306081\n",
       "Description_POPCORN HOLDER                          0.267557\n",
       "Description_REGENCY CAKESTAND 3 TIER                0.317766\n",
       "Description_SET OF 3 CAKE TINS PANTRY DESIGN        0.273557\n",
       "dtype: float64"
      ]
     },
     "execution_count": 24,
     "metadata": {},
     "output_type": "execute_result"
    }
   ],
   "source": [
    "# Obtain the standard deviation of each variable.\n",
    "std_devs = df.std()\n",
    "std_devs\n"
   ]
  },
  {
   "cell_type": "code",
   "execution_count": 25,
   "metadata": {},
   "outputs": [
    {
     "data": {
      "text/plain": [
       "Index(['Description_PACK OF 72 RETROSPOT CAKE CASES'], dtype='object')"
      ]
     },
     "execution_count": 25,
     "metadata": {},
     "output_type": "execute_result"
    }
   ],
   "source": [
    "# Define a standard deviation threshold of 0.26.\n",
    "\n",
    "threshold = 0.26\n",
    "\n",
    "# Identify any columns that are lower than the threshold.\n",
    "low_variance_columns = std_devs[std_devs < threshold].index\n",
    "\n",
    "\n",
    "# Print the column(s) that will be dropped.\n",
    "low_variance_columns\n"
   ]
  },
  {
   "cell_type": "code",
   "execution_count": 26,
   "metadata": {},
   "outputs": [
    {
     "data": {
      "text/html": [
       "<div>\n",
       "<style scoped>\n",
       "    .dataframe tbody tr th:only-of-type {\n",
       "        vertical-align: middle;\n",
       "    }\n",
       "\n",
       "    .dataframe tbody tr th {\n",
       "        vertical-align: top;\n",
       "    }\n",
       "\n",
       "    .dataframe thead th {\n",
       "        text-align: right;\n",
       "    }\n",
       "</style>\n",
       "<table border=\"1\" class=\"dataframe\">\n",
       "  <thead>\n",
       "    <tr style=\"text-align: right;\">\n",
       "      <th></th>\n",
       "      <th>Invoice</th>\n",
       "      <th>StockCode</th>\n",
       "      <th>Quantity</th>\n",
       "      <th>InvoiceDate</th>\n",
       "      <th>Price</th>\n",
       "      <th>CustomerID</th>\n",
       "      <th>Country</th>\n",
       "      <th>TotalAmount</th>\n",
       "      <th>LogPrice</th>\n",
       "      <th>LogQuantity</th>\n",
       "      <th>...</th>\n",
       "      <th>MonthYear</th>\n",
       "      <th>Description_ASSORTED COLOUR BIRD ORNAMENT</th>\n",
       "      <th>Description_CREAM HANGING HEART T-LIGHT HOLDER</th>\n",
       "      <th>Description_JUMBO BAG RED RETROSPOT</th>\n",
       "      <th>Description_LUNCH BAG  BLACK SKULL.</th>\n",
       "      <th>Description_LUNCH BAG RED RETROSPOT</th>\n",
       "      <th>Description_PARTY BUNTING</th>\n",
       "      <th>Description_POPCORN HOLDER</th>\n",
       "      <th>Description_REGENCY CAKESTAND 3 TIER</th>\n",
       "      <th>Description_SET OF 3 CAKE TINS PANTRY DESIGN</th>\n",
       "    </tr>\n",
       "  </thead>\n",
       "  <tbody>\n",
       "    <tr>\n",
       "      <th>0</th>\n",
       "      <td>NaT</td>\n",
       "      <td>85123A</td>\n",
       "      <td>6</td>\n",
       "      <td>2010-12-01 08:26:00</td>\n",
       "      <td>2.55</td>\n",
       "      <td>u1785</td>\n",
       "      <td>United Kingdom</td>\n",
       "      <td>15.30</td>\n",
       "      <td>1.266948</td>\n",
       "      <td>1.945910</td>\n",
       "      <td>...</td>\n",
       "      <td>NaT</td>\n",
       "      <td>0</td>\n",
       "      <td>1</td>\n",
       "      <td>0</td>\n",
       "      <td>0</td>\n",
       "      <td>0</td>\n",
       "      <td>0</td>\n",
       "      <td>0</td>\n",
       "      <td>0</td>\n",
       "      <td>0</td>\n",
       "    </tr>\n",
       "    <tr>\n",
       "      <th>1</th>\n",
       "      <td>NaT</td>\n",
       "      <td>84879</td>\n",
       "      <td>32</td>\n",
       "      <td>2010-12-01 08:34:00</td>\n",
       "      <td>1.69</td>\n",
       "      <td>u13047</td>\n",
       "      <td>United Kingdom</td>\n",
       "      <td>54.08</td>\n",
       "      <td>0.989541</td>\n",
       "      <td>3.496508</td>\n",
       "      <td>...</td>\n",
       "      <td>NaT</td>\n",
       "      <td>1</td>\n",
       "      <td>0</td>\n",
       "      <td>0</td>\n",
       "      <td>0</td>\n",
       "      <td>0</td>\n",
       "      <td>0</td>\n",
       "      <td>0</td>\n",
       "      <td>0</td>\n",
       "      <td>0</td>\n",
       "    </tr>\n",
       "    <tr>\n",
       "      <th>2</th>\n",
       "      <td>NaT</td>\n",
       "      <td>85123A</td>\n",
       "      <td>6</td>\n",
       "      <td>2010-12-01 09:02:00</td>\n",
       "      <td>2.55</td>\n",
       "      <td>u1785</td>\n",
       "      <td>United Kingdom</td>\n",
       "      <td>15.30</td>\n",
       "      <td>1.266948</td>\n",
       "      <td>1.945910</td>\n",
       "      <td>...</td>\n",
       "      <td>NaT</td>\n",
       "      <td>0</td>\n",
       "      <td>1</td>\n",
       "      <td>0</td>\n",
       "      <td>0</td>\n",
       "      <td>0</td>\n",
       "      <td>0</td>\n",
       "      <td>0</td>\n",
       "      <td>0</td>\n",
       "      <td>0</td>\n",
       "    </tr>\n",
       "    <tr>\n",
       "      <th>3</th>\n",
       "      <td>NaT</td>\n",
       "      <td>85123A</td>\n",
       "      <td>6</td>\n",
       "      <td>2010-12-01 09:32:00</td>\n",
       "      <td>2.55</td>\n",
       "      <td>u1785</td>\n",
       "      <td>United Kingdom</td>\n",
       "      <td>15.30</td>\n",
       "      <td>1.266948</td>\n",
       "      <td>1.945910</td>\n",
       "      <td>...</td>\n",
       "      <td>NaT</td>\n",
       "      <td>0</td>\n",
       "      <td>1</td>\n",
       "      <td>0</td>\n",
       "      <td>0</td>\n",
       "      <td>0</td>\n",
       "      <td>0</td>\n",
       "      <td>0</td>\n",
       "      <td>0</td>\n",
       "      <td>0</td>\n",
       "    </tr>\n",
       "    <tr>\n",
       "      <th>4</th>\n",
       "      <td>NaT</td>\n",
       "      <td>20725</td>\n",
       "      <td>10</td>\n",
       "      <td>2010-12-01 09:37:00</td>\n",
       "      <td>1.65</td>\n",
       "      <td>u14688</td>\n",
       "      <td>United Kingdom</td>\n",
       "      <td>16.50</td>\n",
       "      <td>0.974560</td>\n",
       "      <td>2.397895</td>\n",
       "      <td>...</td>\n",
       "      <td>NaT</td>\n",
       "      <td>0</td>\n",
       "      <td>0</td>\n",
       "      <td>0</td>\n",
       "      <td>0</td>\n",
       "      <td>1</td>\n",
       "      <td>0</td>\n",
       "      <td>0</td>\n",
       "      <td>0</td>\n",
       "      <td>0</td>\n",
       "    </tr>\n",
       "  </tbody>\n",
       "</table>\n",
       "<p>5 rows × 21 columns</p>\n",
       "</div>"
      ],
      "text/plain": [
       "  Invoice StockCode  Quantity         InvoiceDate  Price CustomerID  \\\n",
       "0     NaT    85123A         6 2010-12-01 08:26:00   2.55      u1785   \n",
       "1     NaT     84879        32 2010-12-01 08:34:00   1.69     u13047   \n",
       "2     NaT    85123A         6 2010-12-01 09:02:00   2.55      u1785   \n",
       "3     NaT    85123A         6 2010-12-01 09:32:00   2.55      u1785   \n",
       "4     NaT     20725        10 2010-12-01 09:37:00   1.65     u14688   \n",
       "\n",
       "          Country  TotalAmount  LogPrice  LogQuantity  ...  MonthYear  \\\n",
       "0  United Kingdom        15.30  1.266948     1.945910  ...        NaT   \n",
       "1  United Kingdom        54.08  0.989541     3.496508  ...        NaT   \n",
       "2  United Kingdom        15.30  1.266948     1.945910  ...        NaT   \n",
       "3  United Kingdom        15.30  1.266948     1.945910  ...        NaT   \n",
       "4  United Kingdom        16.50  0.974560     2.397895  ...        NaT   \n",
       "\n",
       "  Description_ASSORTED COLOUR BIRD ORNAMENT  \\\n",
       "0                                         0   \n",
       "1                                         1   \n",
       "2                                         0   \n",
       "3                                         0   \n",
       "4                                         0   \n",
       "\n",
       "   Description_CREAM HANGING HEART T-LIGHT HOLDER  \\\n",
       "0                                               1   \n",
       "1                                               0   \n",
       "2                                               1   \n",
       "3                                               1   \n",
       "4                                               0   \n",
       "\n",
       "   Description_JUMBO BAG RED RETROSPOT  Description_LUNCH BAG  BLACK SKULL.  \\\n",
       "0                                    0                                    0   \n",
       "1                                    0                                    0   \n",
       "2                                    0                                    0   \n",
       "3                                    0                                    0   \n",
       "4                                    0                                    0   \n",
       "\n",
       "   Description_LUNCH BAG RED RETROSPOT  Description_PARTY BUNTING  \\\n",
       "0                                    0                          0   \n",
       "1                                    0                          0   \n",
       "2                                    0                          0   \n",
       "3                                    0                          0   \n",
       "4                                    1                          0   \n",
       "\n",
       "   Description_POPCORN HOLDER  Description_REGENCY CAKESTAND 3 TIER  \\\n",
       "0                           0                                     0   \n",
       "1                           0                                     0   \n",
       "2                           0                                     0   \n",
       "3                           0                                     0   \n",
       "4                           0                                     0   \n",
       "\n",
       "   Description_SET OF 3 CAKE TINS PANTRY DESIGN   \n",
       "0                                              0  \n",
       "1                                              0  \n",
       "2                                              0  \n",
       "3                                              0  \n",
       "4                                              0  \n",
       "\n",
       "[5 rows x 21 columns]"
      ]
     },
     "execution_count": 26,
     "metadata": {},
     "output_type": "execute_result"
    }
   ],
   "source": [
    "# Drop the column(s) that have low standard deviation from the main dataset.\n",
    "\n",
    "df.drop(columns=low_variance_columns, inplace=True)\n",
    "\n",
    "\n",
    "# Preview the first five rows of data.\n",
    "df.head()\n"
   ]
  },
  {
   "cell_type": "markdown",
   "metadata": {},
   "source": [
    "# Generate box plots for each numeric variable"
   ]
  },
  {
   "cell_type": "code",
   "execution_count": 27,
   "metadata": {
    "scrolled": false
   },
   "outputs": [
    {
     "data": {
      "image/png": "[encoded data removed]",
      "text/plain": [
       "<Figure size 864x576 with 6 Axes>"
      ]
     },
     "metadata": {
      "needs_background": "light"
     },
     "output_type": "display_data"
    }
   ],
   "source": [
    "# Draw box plots for each numeric variable.\n",
    "numeric_columns = df.select_dtypes(include=['float64', 'int64']).columns\n",
    "\n",
    "plt.figure(figsize=(12, 8))\n",
    "for i, column in enumerate(numeric_columns):\n",
    "    plt.subplot(len(numeric_columns), 1, i + 1)\n",
    "    sns.boxplot(y=df[column])\n",
    "    plt.title(f'Box plot for {column}')\n",
    "\n",
    "plt.tight_layout()\n",
    "plt.show()\n",
    "\n",
    "\n",
    "\n",
    "\n",
    "\n",
    "\n",
    "\n",
    "\n"
   ]
  },
  {
   "cell_type": "markdown",
   "metadata": {},
   "source": [
    "# Identify and remove outliers"
   ]
  },
  {
   "cell_type": "code",
   "execution_count": 28,
   "metadata": {},
   "outputs": [],
   "source": [
    "# This function returns the lower and upper bounds of a numeric input variable.\n",
    "\n",
    "def calc_outliers(var):\n",
    "    q3 = np.percentile(var, 75) \n",
    "    q1 = np.percentile(var, 25)\n",
    "\n",
    "    iqr = 1.5 * (q3 - q1)\n",
    "\n",
    "    lb = q1 - iqr\n",
    "    ub = q3 + iqr\n",
    "\n",
    "    print('Lower bound of outliers:', round(lb, 2), '\\nUpper bound of outliers:', round(ub, 2))\n",
    "    \n",
    "    return lb, ub"
   ]
  },
  {
   "cell_type": "code",
   "execution_count": 29,
   "metadata": {},
   "outputs": [
    {
     "name": "stdout",
     "output_type": "stream",
     "text": [
      "Shape before removing outliers: (12435, 21)\n"
     ]
    }
   ],
   "source": [
    "# Identify the shape of the data before removing outliers.\n",
    "\n",
    "print(\"Shape before removing outliers:\", df.shape)\n"
   ]
  },
  {
   "cell_type": "code",
   "execution_count": 30,
   "metadata": {
    "scrolled": true
   },
   "outputs": [
    {
     "name": "stdout",
     "output_type": "stream",
     "text": [
      "Lower bound of outliers: -15.0 \n",
      "Upper bound of outliers: 33.0\n",
      "Shape before removing outliers from Quantity: (12435, 21)\n",
      "Shape after removing outliers from Quantity: (11480, 21)\n",
      "Lower bound of outliers: -3.3 \n",
      "Upper bound of outliers: 9.9\n",
      "Shape before removing outliers from Price: (11480, 21)\n",
      "Shape after removing outliers from Price: (10086, 21)\n",
      "Lower bound of outliers: -11.7 \n",
      "Upper bound of outliers: 40.3\n",
      "Shape before removing outliers from TotalAmount: (10086, 21)\n",
      "Shape after removing outliers from TotalAmount: (9133, 21)\n",
      "Lower bound of outliers: nan \n",
      "Upper bound of outliers: nan\n",
      "Shape before removing outliers from LogPrice: (9133, 21)\n",
      "Shape after removing outliers from LogPrice: (0, 21)\n",
      "No valid data in LogQuantity, skipping outlier removal.\n",
      "No valid data in LogTotalAmount, skipping outlier removal.\n"
     ]
    }
   ],
   "source": [
    "# Call the calc_outliers() function iteratively for each numeric variable.\n",
    "# For each variable:\n",
    "#     Remove the outliers that are higher than the upper bounds.\n",
    "#     Remove the variables that are lower than the lower bounds.\n",
    "# As you iterate through each variable, print the shape of the data after the outliers for that variable are removed.\n",
    "\n",
    "\n",
    "\n",
    "# Call the calc_outliers() function iteratively for each numeric variable.\n",
    "for column in df.select_dtypes(include=['float64', 'int64']).columns:\n",
    "    # Check if the column has valid data\n",
    "    if df[column].notnull().any():  # Check if there are any non-null values\n",
    "        # Get the lower and upper bounds for outliers\n",
    "        lower_bound, upper_bound = calc_outliers(df[column])\n",
    "        \n",
    "        # Print the shape of the dataset before removing outliers\n",
    "        print(f\"Shape before removing outliers from {column}: {df.shape}\")\n",
    "        \n",
    "        # Remove outliers\n",
    "        df = df[(df[column] >= lower_bound) & (df[column] <= upper_bound)]\n",
    "        \n",
    "        # Print the shape of the dataset after removing outliers\n",
    "        print(f\"Shape after removing outliers from {column}: {df.shape}\")\n",
    "    else:\n",
    "        print(f\"No valid data in {column}, skipping outlier removal.\")\n",
    "\n",
    "\n",
    "\n"
   ]
  },
  {
   "cell_type": "markdown",
   "metadata": {},
   "source": [
    "# Save the final dataset as a pickle file"
   ]
  },
  {
   "cell_type": "code",
   "execution_count": 31,
   "metadata": {},
   "outputs": [],
   "source": [
    "# Save the final dataset as a pickle file named online_history_cleaned_final.pickle.\n",
    "df.to_pickle('final_dataset.pickle')\n"
   ]
  }
 ],
 "metadata": {
  "kernelspec": {
   "display_name": "Python 3",
   "language": "python",
   "name": "python3"
  },
  "language_info": {
   "codemirror_mode": {
    "name": "ipython",
    "version": 3
   },
   "file_extension": ".py",
   "mimetype": "text/x-python",
   "name": "python",
   "nbconvert_exporter": "python",
   "pygments_lexer": "ipython3",
   "version": "3.7.6"
  }
 },
 "nbformat": 4,
 "nbformat_minor": 4
}
